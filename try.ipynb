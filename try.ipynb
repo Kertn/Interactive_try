{
 "cells": [
  {
   "cell_type": "code",
   "execution_count": null,
   "id": "f80a160a",
   "metadata": {
    "scrolled": true
   },
   "outputs": [],
   "source": [
    "import pandas as pd\n",
    "import plotly.express as px\n",
    "from ipywidgets import interact, widgets\n",
    "\n",
    "# Load the data\n",
    "data_path = os.path.join(os.getcwd(), 'mock_methods_data.csv')\n",
    "data = pd.read_csv(data_path)\n",
    "\n",
    "# Convert loss_function from string to list (if saved as a string in CSV)\n",
    "data['loss_function'] = data['loss_function'].apply(eval)\n",
    "\n",
    "# Function to plot loss\n",
    "def plot_loss(selected_meth1, selected_meth2, selected_meth3, selected_meth4):\n",
    "    # Filter the row that matches the selected combination\n",
    "    filtered_row = data[\n",
    "        (data['meth1'] == selected_meth1) &\n",
    "        (data['meth2'] == selected_meth2) &\n",
    "        (data['meth3'] == selected_meth3) &\n",
    "        (data['meth4'] == selected_meth4)\n",
    "    ]\n",
    "    \n",
    "    if filtered_row.empty:\n",
    "        print(\"No matching data for the selected combination of methods.\")\n",
    "        return\n",
    "    \n",
    "    # Extract the loss function\n",
    "    loss_function = filtered_row['loss_function'].iloc[0]\n",
    "    \n",
    "    # Create a DataFrame for plotting\n",
    "    plot_data = pd.DataFrame({'Epoch': range(1, len(loss_function) + 1), 'Loss': loss_function})\n",
    "    \n",
    "    # Create the plot\n",
    "    fig = px.line(\n",
    "        plot_data,\n",
    "        x='Epoch',\n",
    "        y='Loss',\n",
    "        title=\"Training Loss Over Epochs\",\n",
    "        labels={'Epoch': 'Epoch', 'Loss': 'Loss'},\n",
    "    )\n",
    "    fig.show()\n",
    "\n",
    "# Create interactive widgets\n",
    "meth1_selector = widgets.Checkbox(value=False, description='meth1')\n",
    "meth2_selector = widgets.Checkbox(value=False, description='meth2')\n",
    "meth3_selector = widgets.Checkbox(value=False, description='meth3')\n",
    "meth4_selector = widgets.Checkbox(value=False, description='meth4')\n",
    "\n",
    "# Interactive function\n",
    "@interact(\n",
    "    meth1=meth1_selector,\n",
    "    meth2=meth2_selector,\n",
    "    meth3=meth3_selector,\n",
    "    meth4=meth4_selector\n",
    ")\n",
    "def update_plot(meth1, meth2, meth3, meth4):\n",
    "    plot_loss(meth1, meth2, meth3, meth4)\n"
   ]
  }
 ],
 "metadata": {
  "kernelspec": {
   "display_name": "Python 3 (ipykernel)",
   "language": "python",
   "name": "python3"
  },
  "language_info": {
   "codemirror_mode": {
    "name": "ipython",
    "version": 3
   },
   "file_extension": ".py",
   "mimetype": "text/x-python",
   "name": "python",
   "nbconvert_exporter": "python",
   "pygments_lexer": "ipython3",
   "version": "3.9.13"
  }
 },
 "nbformat": 4,
 "nbformat_minor": 5
}
