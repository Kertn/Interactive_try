{
 "cells": [
  {
   "cell_type": "code",
   "execution_count": 1,
   "id": "935aabbc",
   "metadata": {},
   "outputs": [
    {
     "name": "stdout",
     "output_type": "stream",
     "text": [
      "Requirement already satisfied: plotly in c:\\program\\python\\lib\\site-packages (5.24.1)\n",
      "Requirement already satisfied: ipywidgets in c:\\program\\python\\lib\\site-packages (8.0.4)\n",
      "Requirement already satisfied: tenacity>=6.2.0 in c:\\program\\python\\lib\\site-packages (from plotly) (8.2.2)\n",
      "Requirement already satisfied: packaging in c:\\program\\python\\lib\\site-packages (from plotly) (21.3)\n",
      "Requirement already satisfied: ipykernel>=4.5.1 in c:\\program\\python\\lib\\site-packages (from ipywidgets) (6.21.2)\n",
      "Requirement already satisfied: ipython>=6.1.0 in c:\\program\\python\\lib\\site-packages (from ipywidgets) (8.10.0)\n",
      "Requirement already satisfied: traitlets>=4.3.1 in c:\\program\\python\\lib\\site-packages (from ipywidgets) (5.9.0)\n",
      "Requirement already satisfied: widgetsnbextension~=4.0 in c:\\program\\python\\lib\\site-packages (from ipywidgets) (4.0.5)\n",
      "Requirement already satisfied: jupyterlab-widgets~=3.0 in c:\\program\\python\\lib\\site-packages (from ipywidgets) (3.0.5)\n",
      "Requirement already satisfied: comm>=0.1.1 in c:\\program\\python\\lib\\site-packages (from ipykernel>=4.5.1->ipywidgets) (0.1.2)\n",
      "Requirement already satisfied: debugpy>=1.6.5 in c:\\program\\python\\lib\\site-packages (from ipykernel>=4.5.1->ipywidgets) (1.6.6)\n",
      "Requirement already satisfied: jupyter-client>=6.1.12 in c:\\program\\python\\lib\\site-packages (from ipykernel>=4.5.1->ipywidgets) (8.0.3)\n",
      "Requirement already satisfied: jupyter-core!=5.0.*,>=4.12 in c:\\program\\python\\lib\\site-packages (from ipykernel>=4.5.1->ipywidgets) (5.2.0)\n",
      "Requirement already satisfied: matplotlib-inline>=0.1 in c:\\program\\python\\lib\\site-packages (from ipykernel>=4.5.1->ipywidgets) (0.1.6)\n",
      "Requirement already satisfied: nest-asyncio in c:\\program\\python\\lib\\site-packages (from ipykernel>=4.5.1->ipywidgets) (1.5.6)\n",
      "Requirement already satisfied: psutil in c:\\program\\python\\lib\\site-packages (from ipykernel>=4.5.1->ipywidgets) (5.9.4)\n",
      "Requirement already satisfied: pyzmq>=20 in c:\\program\\python\\lib\\site-packages (from ipykernel>=4.5.1->ipywidgets) (25.0.0)\n",
      "Requirement already satisfied: tornado>=6.1 in c:\\program\\python\\lib\\site-packages (from ipykernel>=4.5.1->ipywidgets) (6.2)\n",
      "Requirement already satisfied: backcall in c:\\program\\python\\lib\\site-packages (from ipython>=6.1.0->ipywidgets) (0.2.0)\n",
      "Requirement already satisfied: decorator in c:\\program\\python\\lib\\site-packages (from ipython>=6.1.0->ipywidgets) (5.1.1)\n",
      "Requirement already satisfied: jedi>=0.16 in c:\\program\\python\\lib\\site-packages (from ipython>=6.1.0->ipywidgets) (0.18.2)\n",
      "Requirement already satisfied: pickleshare in c:\\program\\python\\lib\\site-packages (from ipython>=6.1.0->ipywidgets) (0.7.5)\n",
      "Requirement already satisfied: prompt-toolkit<3.1.0,>=3.0.30 in c:\\program\\python\\lib\\site-packages (from ipython>=6.1.0->ipywidgets) (3.0.36)\n",
      "Requirement already satisfied: pygments>=2.4.0 in c:\\program\\python\\lib\\site-packages (from ipython>=6.1.0->ipywidgets) (2.14.0)\n",
      "Requirement already satisfied: stack-data in c:\\program\\python\\lib\\site-packages (from ipython>=6.1.0->ipywidgets) (0.6.2)\n",
      "Requirement already satisfied: colorama in c:\\program\\python\\lib\\site-packages (from ipython>=6.1.0->ipywidgets) (0.4.6)\n",
      "Requirement already satisfied: pyparsing!=3.0.5,>=2.0.2 in c:\\program\\python\\lib\\site-packages (from packaging->plotly) (3.0.9)\n",
      "Requirement already satisfied: parso<0.9.0,>=0.8.0 in c:\\program\\python\\lib\\site-packages (from jedi>=0.16->ipython>=6.1.0->ipywidgets) (0.8.3)\n",
      "Requirement already satisfied: importlib-metadata>=4.8.3 in c:\\program\\python\\lib\\site-packages (from jupyter-client>=6.1.12->ipykernel>=4.5.1->ipywidgets) (4.12.0)\n",
      "Requirement already satisfied: python-dateutil>=2.8.2 in c:\\program\\python\\lib\\site-packages (from jupyter-client>=6.1.12->ipykernel>=4.5.1->ipywidgets) (2.8.2)\n",
      "Requirement already satisfied: platformdirs>=2.5 in c:\\program\\python\\lib\\site-packages (from jupyter-core!=5.0.*,>=4.12->ipykernel>=4.5.1->ipywidgets) (3.0.0)\n",
      "Requirement already satisfied: pywin32>=1.0 in c:\\program\\python\\lib\\site-packages (from jupyter-core!=5.0.*,>=4.12->ipykernel>=4.5.1->ipywidgets) (305)\n",
      "Requirement already satisfied: wcwidth in c:\\program\\python\\lib\\site-packages (from prompt-toolkit<3.1.0,>=3.0.30->ipython>=6.1.0->ipywidgets) (0.2.6)\n",
      "Requirement already satisfied: executing>=1.2.0 in c:\\program\\python\\lib\\site-packages (from stack-data->ipython>=6.1.0->ipywidgets) (1.2.0)\n",
      "Requirement already satisfied: asttokens>=2.1.0 in c:\\program\\python\\lib\\site-packages (from stack-data->ipython>=6.1.0->ipywidgets) (2.2.1)\n",
      "Requirement already satisfied: pure-eval in c:\\program\\python\\lib\\site-packages (from stack-data->ipython>=6.1.0->ipywidgets) (0.2.2)\n",
      "Requirement already satisfied: six in c:\\program\\python\\lib\\site-packages (from asttokens>=2.1.0->stack-data->ipython>=6.1.0->ipywidgets) (1.16.0)\n",
      "Requirement already satisfied: zipp>=0.5 in c:\\program\\python\\lib\\site-packages (from importlib-metadata>=4.8.3->jupyter-client>=6.1.12->ipykernel>=4.5.1->ipywidgets) (3.8.1)\n"
     ]
    },
    {
     "name": "stderr",
     "output_type": "stream",
     "text": [
      "WARNING: Ignoring invalid distribution -lotly (c:\\program\\python\\lib\\site-packages)\n",
      "WARNING: Ignoring invalid distribution -lotly (c:\\program\\python\\lib\\site-packages)\n",
      "\n",
      "[notice] A new release of pip is available: 23.2.1 -> 24.3.1\n",
      "[notice] To update, run: C:\\Program\\Python\\python.exe -m pip install --upgrade pip\n"
     ]
    }
   ],
   "source": [
    "!pip install plotly ipywidgets\n"
   ]
  },
  {
   "cell_type": "code",
   "execution_count": 2,
   "id": "b3275d93",
   "metadata": {},
   "outputs": [
    {
     "name": "stderr",
     "output_type": "stream",
     "text": [
      "Enabling notebook extension jupyter-js-widgets/extension...\n",
      "      - Validating: ok\n",
      "Installing C:\\Program\\Python\\lib\\site-packages\\widgetsnbextension\\static -> jupyter-js-widgets\n",
      "Up to date: C:\\Program\\Python\\share\\jupyter\\nbextensions\\jupyter-js-widgets\\extension.js\n",
      "Up to date: C:\\Program\\Python\\share\\jupyter\\nbextensions\\jupyter-js-widgets\\extension.js.LICENSE.txt\n",
      "Up to date: C:\\Program\\Python\\share\\jupyter\\nbextensions\\jupyter-js-widgets\\extension.js.map\n",
      "- Validating: ok\n",
      "\n",
      "    To initialize this nbextension in the browser every time the notebook (or other app) loads:\n",
      "    \n",
      "          jupyter nbextension enable widgetsnbextension --py --sys-prefix\n",
      "    \n"
     ]
    }
   ],
   "source": [
    "!jupyter nbextension enable --py widgetsnbextension --sys-prefix\n",
    "!jupyter nbextension install --py widgetsnbextension --sys-prefix\n"
   ]
  },
  {
   "cell_type": "code",
   "execution_count": 3,
   "id": "d2ac2f1e",
   "metadata": {},
   "outputs": [
    {
     "name": "stdout",
     "output_type": "stream",
     "text": [
      "Requirement already satisfied: jupyterlab-widgets in c:\\program\\python\\lib\\site-packages (3.0.5)\n"
     ]
    },
    {
     "name": "stderr",
     "output_type": "stream",
     "text": [
      "WARNING: Ignoring invalid distribution -lotly (c:\\program\\python\\lib\\site-packages)\n",
      "WARNING: Ignoring invalid distribution -lotly (c:\\program\\python\\lib\\site-packages)\n",
      "\n",
      "[notice] A new release of pip is available: 23.2.1 -> 24.3.1\n",
      "[notice] To update, run: C:\\Program\\Python\\python.exe -m pip install --upgrade pip\n"
     ]
    }
   ],
   "source": [
    "!pip install jupyterlab-widgets\n"
   ]
  },
  {
   "cell_type": "code",
   "execution_count": 9,
   "id": "f80a160a",
   "metadata": {},
   "outputs": [
    {
     "data": {
      "application/vnd.jupyter.widget-view+json": {
       "model_id": "584395e754304e05b19735e8b73102c3",
       "version_major": 2,
       "version_minor": 0
      },
      "text/plain": [
       "interactive(children=(Checkbox(value=False, description='meth1'), Checkbox(value=False, description='meth2'), …"
      ]
     },
     "metadata": {},
     "output_type": "display_data"
    }
   ],
   "source": [
    "import pandas as pd\n",
    "import plotly.express as px\n",
    "from ipywidgets import interact, widgets\n",
    "import json\n",
    "\n",
    "# Load the data\n",
    "data = pd.read_csv('mock_methods_data.csv')  # Update with the correct path if needed\n",
    "\n",
    "# Convert loss_function from JSON string to list\n",
    "data['loss_function'] = data['loss_function'].apply(json.loads)\n",
    "\n",
    "\n",
    "# Function to plot loss\n",
    "def plot_loss(selected_meth1, selected_meth2, selected_meth3, selected_meth4):\n",
    "    # Filter the row that matches the selected combination\n",
    "    filtered_row = data[\n",
    "        (data['meth1'] == selected_meth1) &\n",
    "        (data['meth2'] == selected_meth2) &\n",
    "        (data['meth3'] == selected_meth3) &\n",
    "        (data['meth4'] == selected_meth4)\n",
    "    ]\n",
    "    \n",
    "    if filtered_row.empty:\n",
    "        print(\"No matching data for the selected combination of methods.\")\n",
    "        return\n",
    "    \n",
    "    # Extract the loss function\n",
    "    loss_function = filtered_row['loss_function'].iloc[0]\n",
    "    \n",
    "    # Create a DataFrame for plotting\n",
    "    plot_data = pd.DataFrame({'Epoch': range(1, len(loss_function) + 1), 'Loss': loss_function})\n",
    "    \n",
    "    # Create the plot\n",
    "    fig = px.line(\n",
    "        plot_data,\n",
    "        x='Epoch',\n",
    "        y='Loss',\n",
    "        title=\"Training Loss Over Epochs\",\n",
    "        labels={'Epoch': 'Epoch', 'Loss': 'Loss'},\n",
    "    )\n",
    "    fig.show()\n",
    "\n",
    "# Create interactive widgets\n",
    "meth1_selector = widgets.Checkbox(value=False, description='meth1')\n",
    "meth2_selector = widgets.Checkbox(value=False, description='meth2')\n",
    "meth3_selector = widgets.Checkbox(value=False, description='meth3')\n",
    "meth4_selector = widgets.Checkbox(value=False, description='meth4')\n",
    "\n",
    "# Interactive function\n",
    "@interact(\n",
    "    meth1=meth1_selector,\n",
    "    meth2=meth2_selector,\n",
    "    meth3=meth3_selector,\n",
    "    meth4=meth4_selector\n",
    ")\n",
    "def update_plot(meth1, meth2, meth3, meth4):\n",
    "    plot_loss(meth1, meth2, meth3, meth4)\n"
   ]
  },
  {
   "cell_type": "code",
   "execution_count": null,
   "id": "b0d0fe7d",
   "metadata": {},
   "outputs": [],
   "source": []
  }
 ],
 "metadata": {
  "kernelspec": {
   "display_name": "Python 3 (ipykernel)",
   "language": "python",
   "name": "python3"
  },
  "language_info": {
   "codemirror_mode": {
    "name": "ipython",
    "version": 3
   },
   "file_extension": ".py",
   "mimetype": "text/x-python",
   "name": "python",
   "nbconvert_exporter": "python",
   "pygments_lexer": "ipython3",
   "version": "3.9.13"
  }
 },
 "nbformat": 4,
 "nbformat_minor": 5
}
